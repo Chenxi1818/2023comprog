{
 "cells": [
  {
   "cell_type": "code",
   "execution_count": 18,
   "id": "fa6bf358-1bc7-42ed-85fa-a1996c5005b4",
   "metadata": {},
   "outputs": [
    {
     "name": "stdout",
     "output_type": "stream",
     "text": [
      "4.65e-21\n"
     ]
    }
   ],
   "source": [
    "# T1\n",
    "# 4.65E-21 \n",
    "a = 4.65E-21\n",
    "print(a)"
   ]
  },
  {
   "cell_type": "code",
   "execution_count": 19,
   "id": "dcc2d40f-135d-4201-9a5e-d0958c128740",
   "metadata": {},
   "outputs": [
    {
     "name": "stdout",
     "output_type": "stream",
     "text": [
      "she said \"good luck\"\n"
     ]
    }
   ],
   "source": [
    "# T2\n",
    "print('she said \"good luck\"')"
   ]
  },
  {
   "cell_type": "code",
   "execution_count": 20,
   "id": "54a10e43-5c57-4e42-843a-f931af37b071",
   "metadata": {},
   "outputs": [
    {
     "name": "stdout",
     "output_type": "stream",
     "text": [
      "AGH&FSD\n"
     ]
    }
   ],
   "source": [
    "# T3\n",
    "s1 = 'ASD' # by using slice and defining new varibles, we can combine the elements in different strings\n",
    "s2 = 'FGH'\n",
    "s3 = s1[0:1] + s2[1:3] # '+' is to connect strings\n",
    "s4 = s2[0:1] + s1[1:3]\n",
    "print(f'{s3}&{s4}')"
   ]
  },
  {
   "cell_type": "code",
   "execution_count": 21,
   "id": "c739f597-39e8-450c-bb47-a667ced1d2d0",
   "metadata": {},
   "outputs": [
    {
     "name": "stdout",
     "output_type": "stream",
     "text": [
      "45678123\n",
      "cdefghab\n"
     ]
    }
   ],
   "source": [
    "# other practices\n",
    "s1 = \"12345678\" \n",
    "s1 = s1[3:8] + s1[0:3]\n",
    "print(s1)\n",
    "s2 = \"abcdefgh\"\n",
    "s2 = s2[2:8] + s2[0:2]\n",
    "print(s2)"
   ]
  },
  {
   "cell_type": "code",
   "execution_count": 22,
   "id": "c9e578c4-c93f-4895-9673-b92ca1b2e84d",
   "metadata": {},
   "outputs": [
    {
     "data": {
      "text/plain": [
       "0.30000000000000004"
      ]
     },
     "execution_count": 22,
     "metadata": {},
     "output_type": "execute_result"
    }
   ],
   "source": [
    "0.1+0.1+0.1 # to better understand the storage of number"
   ]
  },
  {
   "cell_type": "code",
   "execution_count": 23,
   "id": "720cd444-7cae-4284-8d89-0300740dd9d3",
   "metadata": {},
   "outputs": [
    {
     "name": "stdout",
     "output_type": "stream",
     "text": [
      "-12\n"
     ]
    }
   ],
   "source": [
    "# T4\n",
    "x = -12.5\n",
    "if int(x) % 2 == 0 and int(x+0.5) % 2 == 1: # to identify the two conditions given from the topic\n",
    "    x = int(x+0.5)\n",
    "else:\n",
    "    x = round(x)\n",
    "print(x)"
   ]
  },
  {
   "cell_type": "code",
   "execution_count": 24,
   "id": "d1b9ac14-3532-4d5c-a134-554c41aeaa87",
   "metadata": {},
   "outputs": [
    {
     "name": "stdout",
     "output_type": "stream",
     "text": [
      "[10, 12, 40, 100, 150, 250, 252, 258]\n"
     ]
    }
   ],
   "source": [
    "# T5\n",
    "even_list = []\n",
    "x = [1,10,12,31,40,100,150,250,251,252,257,258]\n",
    "for nb in x:\n",
    "    if nb % 2 == 0: \n",
    "        even_list.append(nb)\n",
    "print(even_list)"
   ]
  },
  {
   "cell_type": "markdown",
   "id": "efe8c232-49b6-4ff5-a22c-9d95e77449fa",
   "metadata": {
    "tags": []
   },
   "source": [
    "# 对T5的修正\n"
   ]
  },
  {
   "cell_type": "code",
   "execution_count": 25,
   "id": "edf0e206-3bab-497f-8d51-6febe5bd901c",
   "metadata": {},
   "outputs": [
    {
     "data": {
      "text/plain": [
       "[10, 12, 40, 100, 150, 250, 252, 258]"
      ]
     },
     "execution_count": 25,
     "metadata": {},
     "output_type": "execute_result"
    }
   ],
   "source": [
    "[nb for nb in [1,10,12,31,40,100,150,250,251,252,257,258] if nb % 2 == 0]"
   ]
  },
  {
   "cell_type": "code",
   "execution_count": 26,
   "id": "97d187b7-b47b-4236-bfb1-8de03042d2c9",
   "metadata": {},
   "outputs": [],
   "source": [
    "# n = float(input(\"Please input a number: \"))\n",
    "# if n % 2 == 0: \n",
    "# print(\"This is an even\")\n",
    "# elif n % 2 != 0:\n",
    "# print(\"This is an odd\")"
   ]
  },
  {
   "cell_type": "code",
   "execution_count": null,
   "id": "f6187ed9-e763-4b3b-81cc-0fb1366b3b11",
   "metadata": {},
   "outputs": [],
   "source": [
    "# T6\n",
    "name = input('please input your name: ')\n",
    "sc_1 = float(input('please input your score of the first course last term:')) # let the users input what we want them to fill in\n",
    "sc_2 = float(input('please input your score of the second course last term:'))\n",
    "sc_3 = float(input('please input your score of the third course last term:'))\n",
    "if sc_1>= 60.0: # by using 'if' condition, we can get right caculation\n",
    "    GPA1 = round((sc_1 / 10) - 5,1)\n",
    "else:\n",
    "    GPA1 = 0\n",
    "if sc_2>= 60.0:\n",
    "    GPA2 = round((sc_2 / 10) - 5,1)\n",
    "else:\n",
    "    GPA2 = 0\n",
    "if sc_3>= 60.0:\n",
    "    GPA3 = round((sc_3 / 10) - 5,1)\n",
    "else:\n",
    "    GPA3 = 0\n",
    "GPA = 3*(GPA1+GPA2+GPA3)/9\n",
    "print(f'{name.title()}, your GPA last term is {GPA} given the scores {GPA1},{GPA2} and {GPA3}')"
   ]
  },
  {
   "cell_type": "code",
   "execution_count": null,
   "id": "0393c2aa-01cc-43ea-8d13-7f767ddcf6e2",
   "metadata": {},
   "outputs": [],
   "source": [
    "# T7\n",
    "inte_list = [1,1,2,2,3,3]\n",
    "del inte_list[0] # since i've known what the order is, i can use del()\n",
    "del inte_list[1]\n",
    "del inte_list[2]\n",
    "print(inte_list)"
   ]
  },
  {
   "cell_type": "markdown",
   "id": "038c3457-78b2-4156-b52d-61173e5079ad",
   "metadata": {
    "tags": []
   },
   "source": [
    "# 对T7的修订"
   ]
  },
  {
   "cell_type": "code",
   "execution_count": null,
   "id": "5cdb52f6-30ce-4262-b0cc-b3d1d5690415",
   "metadata": {},
   "outputs": [],
   "source": [
    "list(set([1,1,2,2,3,3]))"
   ]
  },
  {
   "cell_type": "code",
   "execution_count": null,
   "id": "681b7269-4d19-472c-a866-8f33eda8dc1a",
   "metadata": {},
   "outputs": [],
   "source": [
    "# T8\n",
    "inte_list = [1,1,2,2,3,3] # set() can delete the same elements from any list\n",
    "print(list(set(inte_list)))"
   ]
  },
  {
   "cell_type": "markdown",
   "id": "ee8f563e-e19d-4210-a0e2-836c383a7a58",
   "metadata": {
    "tags": []
   },
   "source": [
    "# 对T8的修订\n",
    "\"for any function\" 就意味着要def函数，从而可以添加变量，随时加入具体的变量表示"
   ]
  },
  {
   "cell_type": "code",
   "execution_count": null,
   "id": "f8560d16-466f-4cc7-b1b2-501e69eb61db",
   "metadata": {},
   "outputs": [],
   "source": [
    "def inte_list(input_list):\n",
    "    return list(set(input_list))\n",
    "    \n",
    "print(inte_list([1,1,2,2,3,3]))"
   ]
  },
  {
   "cell_type": "code",
   "execution_count": null,
   "id": "01640663-2fb3-4463-972f-42d29ef2b85e",
   "metadata": {},
   "outputs": [],
   "source": [
    "# T9\n",
    "import random # input random module\n",
    "import string # input string module\n",
    "l_le_list = string.ascii_lowercase # create random lower letters\n",
    "u_le_list = string.ascii_uppercase # create random upper letters\n",
    "nb_list = string.digits # create random numbers from [0,10)\n",
    "sy_list = \"!@#$%^&*()?\"\n",
    "for i in range(100): # to get 100 keys\n",
    "    nb = random.sample(nb_list,7) # meets six password requirements\n",
    "    l_le = random.sample(l_le_list,1)\n",
    "    u_le = random.sample(u_le_list,1)\n",
    "    sy = random.sample(sy_list,1)\n",
    "    keys = nb + l_le + u_le + sy\n",
    "    keys = list(set(keys))\n",
    "    keys = ''.join(keys) # join() is to connect elements from a list\n",
    "    \n",
    "    print(keys)"
   ]
  },
  {
   "cell_type": "code",
   "execution_count": null,
   "id": "2859b8a0-8522-4b05-9a24-39717fdce4b3",
   "metadata": {},
   "outputs": [],
   "source": [
    "# T10\n",
    "# fiften lines i've used to code\n",
    "# here is another seemingly brief way to solve\n",
    "\n",
    "import random # 导入模块random\n",
    "import string # 导入模块string\n",
    "l_le_list = string.ascii_lowercase # \n",
    "u_le_list = string.ascii_uppercase\n",
    "nb_list = string.digits\n",
    "sy_list = \"!@#$%^&*()?\"\n",
    "for i in range(100):\n",
    "    keys = random.sample(nb_list,7) + random.sample(l_le_list,1) + random.sample(u_le_list,1) + random.sample(sy_list,1)\n",
    "    keys = list(set(keys))\n",
    "    keys = ''.join(keys)\n",
    "    \n",
    "    print(keys)"
   ]
  },
  {
   "cell_type": "code",
   "execution_count": null,
   "id": "f7ca8fe2-328a-4cd6-95c4-266098c5230d",
   "metadata": {},
   "outputs": [],
   "source": []
  }
 ],
 "metadata": {
  "kernelspec": {
   "display_name": "Python 3 (ipykernel)",
   "language": "python",
   "name": "python3"
  },
  "language_info": {
   "codemirror_mode": {
    "name": "ipython",
    "version": 3
   },
   "file_extension": ".py",
   "mimetype": "text/x-python",
   "name": "python",
   "nbconvert_exporter": "python",
   "pygments_lexer": "ipython3",
   "version": "3.10.9"
  }
 },
 "nbformat": 4,
 "nbformat_minor": 5
}
