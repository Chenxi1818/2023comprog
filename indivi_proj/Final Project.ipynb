{
 "cells": [
  {
   "cell_type": "markdown",
   "id": "37d468c1-7acc-446e-9e02-160ec22cc778",
   "metadata": {
    "tags": []
   },
   "source": [
    "# loanapp.dta"
   ]
  },
  {
   "cell_type": "markdown",
   "id": "4bc6c48c-44c0-4866-aa62-4f9510e19320",
   "metadata": {},
   "source": [
    "Peng Chenxi\n",
    "\n",
    "2021101425"
   ]
  },
  {
   "cell_type": "markdown",
   "id": "5eb95107-dc79-4b61-9f09-c3935400488d",
   "metadata": {
    "tags": []
   },
   "source": [
    "### Section 1.Introduction"
   ]
  },
  {
   "cell_type": "markdown",
   "id": "719a1a9c-2f3e-4c48-9e23-0c0c198ac624",
   "metadata": {
    "tags": []
   },
   "source": [
    "The topic is Racial Discrimination in Lending Markets. The main focus of my economic anaysis is to investigate whether racial discrimination exists in lending markets. The dataset used is \"loanapp.dta,\" which consists of information on mortgage loan applications in Boston, 1994. \n",
    "\n",
    "Our key variables are independent variable approve, dependent variable white, and control variables male, married, sch, hrat and obrat. \n",
    "\n",
    "We will describe the data first. Then I will use $Logit$ $model$ to estimate the relationship between approve and white since it can analyze binary response data, handle nonlinear relationships between the independent variables and the binary response, ensure that the estimated probabilities are always within the appropriate bounds, and be robust to heteroscedasticity.\n",
    "\n",
    "\n",
    "\n"
   ]
  },
  {
   "cell_type": "markdown",
   "id": "d11a6818-9f2b-42a2-a6ad-c8819affd96a",
   "metadata": {
    "tags": []
   },
   "source": [
    "## Use Python and Stata Together to Go on the Section2-4"
   ]
  },
  {
   "cell_type": "code",
   "execution_count": 1,
   "id": "45dc75f0-565c-4ce6-999e-13f6d7465ed2",
   "metadata": {},
   "outputs": [
    {
     "name": "stdout",
     "output_type": "stream",
     "text": [
      "Requirement already satisfied: pystata in c:\\anaconda\\lib\\site-packages (0.0.1)\n",
      "Requirement already satisfied: pandas in c:\\anaconda\\lib\\site-packages (from pystata) (2.0.0)\n",
      "Requirement already satisfied: python-dateutil>=2.8.2 in c:\\anaconda\\lib\\site-packages (from pandas->pystata) (2.8.2)\n",
      "Requirement already satisfied: pytz>=2020.1 in c:\\anaconda\\lib\\site-packages (from pandas->pystata) (2022.7)\n",
      "Requirement already satisfied: numpy>=1.21.0 in c:\\anaconda\\lib\\site-packages (from pandas->pystata) (1.24.2)\n",
      "Requirement already satisfied: tzdata>=2022.1 in c:\\anaconda\\lib\\site-packages (from pandas->pystata) (2023.3)\n",
      "Requirement already satisfied: six>=1.5 in c:\\anaconda\\lib\\site-packages (from python-dateutil>=2.8.2->pandas->pystata) (1.16.0)\n",
      "Note: you may need to restart the kernel to use updated packages.\n"
     ]
    }
   ],
   "source": [
    "pip install pystata"
   ]
  },
  {
   "cell_type": "code",
   "execution_count": 2,
   "id": "ff460405-7dea-422f-91bc-2ef3275eb9f9",
   "metadata": {},
   "outputs": [
    {
     "name": "stdout",
     "output_type": "stream",
     "text": [
      "Requirement already satisfied: stata_setup in c:\\anaconda\\lib\\site-packages (0.1.3)\n",
      "Requirement already satisfied: numpy in c:\\anaconda\\lib\\site-packages (from stata_setup) (1.24.2)\n",
      "Requirement already satisfied: ipython in c:\\anaconda\\lib\\site-packages (from stata_setup) (8.10.0)\n",
      "Requirement already satisfied: pandas in c:\\anaconda\\lib\\site-packages (from stata_setup) (2.0.0)\n",
      "Requirement already satisfied: pygments>=2.4.0 in c:\\anaconda\\lib\\site-packages (from ipython->stata_setup) (2.11.2)\n",
      "Requirement already satisfied: stack-data in c:\\anaconda\\lib\\site-packages (from ipython->stata_setup) (0.2.0)\n",
      "Requirement already satisfied: prompt-toolkit<3.1.0,>=3.0.30 in c:\\anaconda\\lib\\site-packages (from ipython->stata_setup) (3.0.36)\n",
      "Requirement already satisfied: backcall in c:\\anaconda\\lib\\site-packages (from ipython->stata_setup) (0.2.0)\n",
      "Requirement already satisfied: pickleshare in c:\\anaconda\\lib\\site-packages (from ipython->stata_setup) (0.7.5)\n",
      "Requirement already satisfied: traitlets>=5 in c:\\anaconda\\lib\\site-packages (from ipython->stata_setup) (5.7.1)\n",
      "Requirement already satisfied: matplotlib-inline in c:\\anaconda\\lib\\site-packages (from ipython->stata_setup) (0.1.6)\n",
      "Requirement already satisfied: decorator in c:\\anaconda\\lib\\site-packages (from ipython->stata_setup) (5.1.1)\n",
      "Requirement already satisfied: colorama in c:\\anaconda\\lib\\site-packages (from ipython->stata_setup) (0.4.6)\n",
      "Requirement already satisfied: jedi>=0.16 in c:\\anaconda\\lib\\site-packages (from ipython->stata_setup) (0.18.1)\n",
      "Requirement already satisfied: python-dateutil>=2.8.2 in c:\\anaconda\\lib\\site-packages (from pandas->stata_setup) (2.8.2)\n",
      "Requirement already satisfied: pytz>=2020.1 in c:\\anaconda\\lib\\site-packages (from pandas->stata_setup) (2022.7)\n",
      "Requirement already satisfied: tzdata>=2022.1 in c:\\anaconda\\lib\\site-packages (from pandas->stata_setup) (2023.3)\n",
      "Requirement already satisfied: parso<0.9.0,>=0.8.0 in c:\\anaconda\\lib\\site-packages (from jedi>=0.16->ipython->stata_setup) (0.8.3)\n",
      "Requirement already satisfied: wcwidth in c:\\anaconda\\lib\\site-packages (from prompt-toolkit<3.1.0,>=3.0.30->ipython->stata_setup) (0.2.5)\n",
      "Requirement already satisfied: six>=1.5 in c:\\anaconda\\lib\\site-packages (from python-dateutil>=2.8.2->pandas->stata_setup) (1.16.0)\n",
      "Requirement already satisfied: pure-eval in c:\\anaconda\\lib\\site-packages (from stack-data->ipython->stata_setup) (0.2.2)\n",
      "Requirement already satisfied: asttokens in c:\\anaconda\\lib\\site-packages (from stack-data->ipython->stata_setup) (2.0.5)\n",
      "Requirement already satisfied: executing in c:\\anaconda\\lib\\site-packages (from stack-data->ipython->stata_setup) (0.8.3)\n",
      "Note: you may need to restart the kernel to use updated packages.\n"
     ]
    }
   ],
   "source": [
    "pip install stata_setup"
   ]
  },
  {
   "cell_type": "code",
   "execution_count": 3,
   "id": "6b37bd65-fc51-4b44-8fa7-fc475d240729",
   "metadata": {},
   "outputs": [
    {
     "name": "stdout",
     "output_type": "stream",
     "text": [
      "\n",
      "  ___  ____  ____  ____  ____ ©\n",
      " /__    /   ____/   /   ____/      17.0\n",
      "___/   /   /___/   /   /___/       MP—Parallel Edition\n",
      "\n",
      " Statistics and Data Science       Copyright 1985-2021 StataCorp LLC\n",
      "                                   StataCorp\n",
      "                                   4905 Lakeway Drive\n",
      "                                   College Station, Texas 77845 USA\n",
      "                                   800-STATA-PC        https://www.stata.com\n",
      "                                   979-696-4600        stata@stata.com\n",
      "\n",
      "Stata license: Single-user 8-core , expiring  1 Jan 2025\n",
      "Serial number: 501709301094\n",
      "  Licensed to: 公众号【马克数据网】\n",
      "               \n",
      "\n",
      "Notes:\n",
      "      1. Unicode is supported; see help unicode_advice.\n",
      "      2. More than 2 billion observations are allowed; see help obs_advice.\n",
      "      3. Maximum number of variables is set to 5,000; see help set_maxvar.\n"
     ]
    }
   ],
   "source": [
    "# Set the interaction of Python-Stata\n",
    "import stata_setup\n",
    "import sys\n",
    "sys.path.append('E:\\stata17//utilities')\n",
    "from pystata import config\n",
    "config.init('mp')"
   ]
  },
  {
   "cell_type": "markdown",
   "id": "b7ecdb07-815e-44f5-a11e-c4d7c68b60f9",
   "metadata": {},
   "source": [
    "### Section 2. Data cleanig"
   ]
  },
  {
   "cell_type": "code",
   "execution_count": 4,
   "id": "45984736-ecb2-4e0e-97b2-46018bf350ca",
   "metadata": {},
   "outputs": [
    {
     "name": "stdout",
     "output_type": "stream",
     "text": [
      "\n",
      ". \n",
      ". * Import dataset\n",
      ". sysuse loanapp.dta, clear\n",
      "\n",
      ". \n"
     ]
    }
   ],
   "source": [
    "%%stata\n",
    "\n",
    "* Import dataset\n",
    "sysuse loanapp.dta, clear"
   ]
  },
  {
   "cell_type": "code",
   "execution_count": 5,
   "id": "56422a74-4658-4a72-8dcc-58712331dcdb",
   "metadata": {},
   "outputs": [
    {
     "name": "stdout",
     "output_type": "stream",
     "text": [
      "\n",
      ". \n",
      ". * Clean the dataset by droping missing value in some variables mentioned in i\n",
      "> ntroduction \n",
      ". drop if missing(married) | missing(male) | missing(approve)| missing(white)|m\n",
      "> issing(sch)|missing(hrat)|missing(obrat)\n",
      "(18 observations deleted)\n",
      "\n",
      ". \n",
      ". * Save a cleaned dataset\n",
      ". save loanappV1.dta, replace\n",
      "file loanappV1.dta saved\n",
      "\n",
      ". \n"
     ]
    }
   ],
   "source": [
    "%%stata \n",
    "\n",
    "* Clean the dataset by droping missing value in some variables mentioned in introduction \n",
    "drop if missing(married) | missing(male) | missing(approve)| missing(white)|missing(sch)|missing(hrat)|missing(obrat)\n",
    "\n",
    "* Save a cleaned dataset\n",
    "save loanappV1.dta, replace"
   ]
  },
  {
   "cell_type": "markdown",
   "id": "c1302f7a-82a3-46ab-b4f5-819ee2f45899",
   "metadata": {
    "tags": []
   },
   "source": [
    "### Section 3. Descriptive Analysis"
   ]
  },
  {
   "cell_type": "code",
   "execution_count": 6,
   "id": "e642b523-2661-4ac6-a50e-b934b3e6d631",
   "metadata": {},
   "outputs": [
    {
     "name": "stdout",
     "output_type": "stream",
     "text": [
      "\n",
      ". \n",
      ". * Describe key variables\n",
      ". describe approve white married male sch hrat obrat\n",
      "\n",
      "Variable      Storage   Display    Value\n",
      "    name         type    format    label      Variable label\n",
      "-------------------------------------------------------------------------------\n",
      "approve         byte    %9.0g                 =1 if action == 1 or 2\n",
      "white           byte    %9.0g                 =1 if applicant white\n",
      "married         byte    %9.0g                 =1 if applicant married\n",
      "male            byte    %9.0g                 =1 if applicant male\n",
      "sch             byte    %9.0g                 =1 if > 12 years schooling\n",
      "hrat            float   %9.0g                 housing exp, % total inc\n",
      "obrat           float   %9.0g                 other oblgs, % total inc\n",
      "\n",
      ". \n",
      ". * Summarize key variables\n",
      ". \n",
      ". summarize white married male sch hrat obrat if approve == 0\n",
      "\n",
      "    Variable |        Obs        Mean    Std. dev.       Min        Max\n",
      "-------------+---------------------------------------------------------\n",
      "       white |        244    .6311475    .4834856          0          1\n",
      "     married |        244    .5819672    .4942495          0          1\n",
      "        male |        244     .795082    .4044714          0          1\n",
      "         sch |        244    .7213115    .4492755          0          1\n",
      "        hrat |        244    26.08824    9.007968          2         72\n",
      "-------------+---------------------------------------------------------\n",
      "       obrat |        244    36.25533    10.62281          7         78\n",
      "\n",
      ". summarize white married male sch hrat obrat if approve == 1\n",
      "\n",
      "    Variable |        Obs        Mean    Std. dev.       Min        Max\n",
      "-------------+---------------------------------------------------------\n",
      "       white |      1,727    .8766647    .3289169          0          1\n",
      "     married |      1,727    .6705269     .470158          0          1\n",
      "        male |      1,727    .8158657     .387706          0          1\n",
      "         sch |      1,727    .7770701    .4163323          0          1\n",
      "        hrat |      1,727    24.61808    6.807068          1         72\n",
      "-------------+---------------------------------------------------------\n",
      "       obrat |      1,727    31.84365    7.738738          0         95\n",
      "\n",
      ". \n"
     ]
    }
   ],
   "source": [
    "%%stata\n",
    "\n",
    "* Describe key variables\n",
    "describe approve white married male sch hrat obrat\n",
    "\n",
    "* Summarize key variables\n",
    "\n",
    "summarize white married male sch hrat obrat if approve == 0\n",
    "summarize white married male sch hrat obrat if approve == 1\n"
   ]
  },
  {
   "cell_type": "markdown",
   "id": "8a0fd635-60bf-4767-89ea-c2c3ad326d0b",
   "metadata": {},
   "source": [
    "Here are my interpretation of my empirical findings\n",
    "1. Most of applicants are white people and most of loan applications are approved\n",
    "2. By comparison of two summaries, the loan application is more likely to be approved for people who are white,married,male,highly educated,lower housing expenditure or lower outlay for debt\n",
    "3. Gender and housing expenditure may have little influence on the possibility of the success in application.\n"
   ]
  },
  {
   "cell_type": "markdown",
   "id": "f2e0f498-560d-4516-a4bb-1595670e3368",
   "metadata": {
    "tags": []
   },
   "source": [
    "### Section 4. Econometric Analysis"
   ]
  },
  {
   "cell_type": "markdown",
   "id": "5da109cf-dfe5-4f2e-8e9c-9c9676817125",
   "metadata": {},
   "source": [
    "First consider the logit model. "
   ]
  },
  {
   "cell_type": "markdown",
   "id": "b96c0d60-6692-462e-9199-aabe2dccb869",
   "metadata": {},
   "source": [
    "$$\\Pr(approve_i=1|\\boldsymbol{X}_i)=\\dfrac{e^{\\beta_0 + \\beta_1 white_i +\\beta_2 married_i +\\beta_3 male +\\beta_4 sch +\\beta_5 hrat +\\beta_6 obrat}}{1+ e^{\\beta_0 + \\beta_1 white_i +\\beta_2 married_i +\\beta_3 male +\\beta_4 sch +\\beta_5 hrat +\\beta_6 obrat}} $$ "
   ]
  },
  {
   "cell_type": "markdown",
   "id": "6534fb06-a661-426e-a389-d6eba511921b",
   "metadata": {
    "tags": []
   },
   "source": [
    "#### code manually"
   ]
  },
  {
   "cell_type": "markdown",
   "id": "b1cdd2eb-1f33-49cb-87cb-6cd1d29e093b",
   "metadata": {},
   "source": [
    "I use scipy and numpy to code up the log-likelihood function and use a suitable optimization routine to find the MLE. Code below is based on the note of Teacher Zi Zhong."
   ]
  },
  {
   "cell_type": "code",
   "execution_count": 7,
   "id": "14734535-61db-4812-86c2-dcfcddaa6684",
   "metadata": {},
   "outputs": [
    {
     "name": "stdout",
     "output_type": "stream",
     "text": [
      "Estimands and hypothesis testing statistics are shown below:\n"
     ]
    },
    {
     "data": {
      "text/html": [
       "<div>\n",
       "<style scoped>\n",
       "    .dataframe tbody tr th:only-of-type {\n",
       "        vertical-align: middle;\n",
       "    }\n",
       "\n",
       "    .dataframe tbody tr th {\n",
       "        vertical-align: top;\n",
       "    }\n",
       "\n",
       "    .dataframe thead th {\n",
       "        text-align: right;\n",
       "    }\n",
       "</style>\n",
       "<table border=\"1\" class=\"dataframe\">\n",
       "  <thead>\n",
       "    <tr style=\"text-align: right;\">\n",
       "      <th></th>\n",
       "      <th>Parameter</th>\n",
       "      <th>Std. Err.</th>\n",
       "      <th>z-stat</th>\n",
       "      <th>p-value</th>\n",
       "      <th>Lower CI</th>\n",
       "      <th>Upper CI</th>\n",
       "    </tr>\n",
       "  </thead>\n",
       "  <tbody>\n",
       "    <tr>\n",
       "      <th>mu0</th>\n",
       "      <td>4.749690</td>\n",
       "      <td>0.457231</td>\n",
       "      <td>0.0000</td>\n",
       "      <td>0.0000</td>\n",
       "      <td>4.4328</td>\n",
       "      <td>5.0665</td>\n",
       "    </tr>\n",
       "    <tr>\n",
       "      <th>white</th>\n",
       "      <td>1.320320</td>\n",
       "      <td>0.172883</td>\n",
       "      <td>0.0000</td>\n",
       "      <td>0.0000</td>\n",
       "      <td>1.2005</td>\n",
       "      <td>1.4401</td>\n",
       "    </tr>\n",
       "    <tr>\n",
       "      <th>married</th>\n",
       "      <td>0.407608</td>\n",
       "      <td>0.165092</td>\n",
       "      <td>0.0135</td>\n",
       "      <td>0.0135</td>\n",
       "      <td>0.2932</td>\n",
       "      <td>0.5220</td>\n",
       "    </tr>\n",
       "    <tr>\n",
       "      <th>male</th>\n",
       "      <td>-0.128241</td>\n",
       "      <td>0.193973</td>\n",
       "      <td>1.4915</td>\n",
       "      <td>1.4915</td>\n",
       "      <td>-0.2627</td>\n",
       "      <td>0.0062</td>\n",
       "    </tr>\n",
       "    <tr>\n",
       "      <th>sch</th>\n",
       "      <td>0.154409</td>\n",
       "      <td>0.160134</td>\n",
       "      <td>0.3349</td>\n",
       "      <td>0.3349</td>\n",
       "      <td>0.0434</td>\n",
       "      <td>0.2654</td>\n",
       "    </tr>\n",
       "    <tr>\n",
       "      <th>hrat</th>\n",
       "      <td>0.021976</td>\n",
       "      <td>0.011728</td>\n",
       "      <td>0.0610</td>\n",
       "      <td>0.0610</td>\n",
       "      <td>0.0138</td>\n",
       "      <td>0.0301</td>\n",
       "    </tr>\n",
       "    <tr>\n",
       "      <th>obrat</th>\n",
       "      <td>-0.066640</td>\n",
       "      <td>0.010360</td>\n",
       "      <td>2.0000</td>\n",
       "      <td>2.0000</td>\n",
       "      <td>-0.0738</td>\n",
       "      <td>-0.0595</td>\n",
       "    </tr>\n",
       "    <tr>\n",
       "      <th>_cons</th>\n",
       "      <td>2.375305</td>\n",
       "      <td>0.160042</td>\n",
       "      <td>0.0000</td>\n",
       "      <td>0.0000</td>\n",
       "      <td>2.2644</td>\n",
       "      <td>2.4862</td>\n",
       "    </tr>\n",
       "  </tbody>\n",
       "</table>\n",
       "</div>"
      ],
      "text/plain": [
       "         Parameter  Std. Err.  z-stat  p-value  Lower CI  Upper CI\n",
       "mu0       4.749690   0.457231  0.0000   0.0000    4.4328    5.0665\n",
       "white     1.320320   0.172883  0.0000   0.0000    1.2005    1.4401\n",
       "married   0.407608   0.165092  0.0135   0.0135    0.2932    0.5220\n",
       "male     -0.128241   0.193973  1.4915   1.4915   -0.2627    0.0062\n",
       "sch       0.154409   0.160134  0.3349   0.3349    0.0434    0.2654\n",
       "hrat      0.021976   0.011728  0.0610   0.0610    0.0138    0.0301\n",
       "obrat    -0.066640   0.010360  2.0000   2.0000   -0.0738   -0.0595\n",
       "_cons     2.375305   0.160042  0.0000   0.0000    2.2644    2.4862"
      ]
     },
     "metadata": {},
     "output_type": "display_data"
    }
   ],
   "source": [
    "import scipy\n",
    "import numpy as np\n",
    "import pandas as pd\n",
    "\n",
    "import statsmodels.api as sm\n",
    "from scipy.optimize import minimize\n",
    "from scipy import stats\n",
    "\n",
    "# Import the cleaned dataset\n",
    "\n",
    "dataset = pd.read_stata('loanappV1.dta')\n",
    "\n",
    "# Extract predictor variables and response variable\n",
    "X_pd = dataset[['white','married','male','sch','hrat','obrat']]  # Specify the column names for the predictor variables\n",
    "y_pd = dataset['approve']\n",
    "\n",
    "# Add constant to independent variables\n",
    "X_pd = sm.add_constant(X_pd)\n",
    "\n",
    "# Convert data to numpy arrays\n",
    "X = X_pd.to_numpy()\n",
    "y = y_pd.to_numpy()\n",
    "\n",
    "# Create a function to apply MLE \n",
    "def ordinal_II(theta, y, x, model):\n",
    "    # the value of m\n",
    "    m = len(np.unique(y))\n",
    "    \n",
    "    # the number of colomns of x\n",
    "    if x.ndim==1: k=1\n",
    "    if x.ndim!=1: k=np.shape(x)[1]\n",
    "    \n",
    "    # linear combination\n",
    "    beta = theta[0:k]\n",
    "    if k==1: \n",
    "        BX = x * beta\n",
    "    else:\n",
    "        BX = x @ beta\n",
    "        \n",
    "    # mu parameter (vectorization)\n",
    "    mu = theta[k:]\n",
    "    mu = np.append(np.append(-np.inf,mu),np.inf)\n",
    "    \n",
    "    # Objective function computation\n",
    "    output = 0\n",
    "    for j in range(m):\n",
    "        if model==\"oprobit\":\n",
    "            output = output + np.sum((y==j)*np.log(stats.norm.cdf(mu[j+1]-BX)-stats.norm.cdf(mu[j]-BX)+1e-20))\n",
    "        if model==\"ologit\":\n",
    "            output = output + np.sum((y==j)*np.log(scipy.special.expit(mu[j+1]-BX)-scipy.special.expit(mu[j]-BX)+1e-20))\n",
    "    return -output\n",
    "\n",
    "\n",
    "# Defining the initial values for optimizing a solution equation\n",
    "# a NumPy array that represents the initial guess or \n",
    "# starting point for the optimization algorithm\n",
    "initialvalue = np.array([7.195,2.4,1.3,0.4,-0.1,0.2,0.02,-0.07]) \n",
    "logit_result = minimize(ordinal_II, initialvalue, args=(y,X,'ologit'))\n",
    "\n",
    "# The results of solving the logit model using SciPy.\n",
    "logit_report = np.zeros((8,6), dtype=float)\n",
    "\n",
    "logit_report[:,0] = logit_result.x\n",
    "\n",
    "# The standard deviation of parameter estimation using SciPy.\n",
    "logit_se = np.sqrt(np.diag(logit_result.hess_inv))\n",
    "logit_report[:,1] = logit_se\n",
    "\n",
    "# z-statistic\n",
    "logit_report[:,2] = ((1-stats.norm.cdf(logit_result.x/logit_se))*2).round(4)\n",
    "\n",
    "# p-value\n",
    "logit_report[:,3] = ((1-stats.norm.cdf(logit_result.x/logit_se))*2).round(4)\n",
    "\n",
    "# CI\n",
    "logit_report[:,4] = (logit_result.x - 1.96*logit_se/np.sqrt(np.shape(logit_result.x)[0])).round(4)\n",
    "logit_report[:,5] = (logit_result.x + 1.96*logit_se/np.sqrt(np.shape(logit_result.x)[0])).round(4)\n",
    "\n",
    "# make dataframe\n",
    "logit_report = pd.DataFrame(logit_report, index=['mu0','white','married','male','sch','hrat','obrat','_cons'], columns=['Parameter','Std. Err.','z-stat','p-value','Lower CI','Upper CI'])\n",
    "\n",
    "print('Estimands and hypothesis testing statistics are shown below:')\n",
    "display(logit_report)\n",
    "\n",
    "\n"
   ]
  },
  {
   "cell_type": "code",
   "execution_count": 8,
   "id": "ab7e1fd2-7a15-4e8f-9f59-df84e6b0cd27",
   "metadata": {},
   "outputs": [
    {
     "name": "stdout",
     "output_type": "stream",
     "text": [
      "0.174460305852619\n"
     ]
    }
   ],
   "source": [
    "import sympy\n",
    "\n",
    "# Define symbolic variable\n",
    "b0 = sympy.Symbol('beta_0')\n",
    "b1 = sympy.Symbol('beta_1')\n",
    "b2 = sympy.Symbol('beta_2')\n",
    "b3 = sympy.Symbol('beta_3')\n",
    "b4 = sympy.Symbol('beta_4')\n",
    "b5 = sympy.Symbol('beta_5')\n",
    "b6 = sympy.Symbol('beta_6')\n",
    "\n",
    "p1 = sympy.Symbol('P(approve_{i}=1)')\n",
    "white = sympy.Symbol('white_i')\n",
    "married = sympy.Symbol('married_i')\n",
    "male = sympy.Symbol('male_i')\n",
    "sch = sympy.Symbol('sch_i')\n",
    "hrat = sympy.Symbol('hrat_i')\n",
    "obrat = sympy.Symbol('obrat_i')\n",
    "\n",
    "# linear function\n",
    "z = b0 + b1 * white+ b2 * married + b3*male + b4*sch  + b5*hrat + b6*obrat\n",
    "\n",
    "# logit model\n",
    "p1 = sympy.E**z / (1+sympy.E**z)\n",
    "\n",
    "# caculate the probabilities\n",
    "white1_me = p1.subs(b0,2.3744).subs(b1,1.3203).subs(b2,0.4076).subs(b3,-0.1282).subs(b4,0.1544).subs(b5,0.0219).subs(b6,-0.0666).subs(married,X_pd.mean()[2]).subs(male,X_pd.mean()[3]).subs(sch,X_pd.mean()[4]).subs(hrat,X_pd.mean()[5]).subs(obrat,X_pd.mean()[6]).subs(white,1)\n",
    "white0_me = p1.subs(b0,2.3744).subs(b1,1.3203).subs(b2,0.4076).subs(b3,-0.1282).subs(b4,0.1544).subs(b5,0.0219).subs(b6,-0.0666).subs(married,X_pd.mean()[2]).subs(male,X_pd.mean()[3]).subs(sch,X_pd.mean()[4]).subs(hrat,X_pd.mean()[5]).subs(obrat,X_pd.mean()[6]).subs(white,0)\n",
    "\n",
    "# AME of white\n",
    "print(white1_me-white0_me)"
   ]
  },
  {
   "cell_type": "markdown",
   "id": "7f68262d-8c6e-4e6b-ba7d-1e8f7eb9ad5b",
   "metadata": {
    "tags": []
   },
   "source": [
    "#### code with stata"
   ]
  },
  {
   "cell_type": "code",
   "execution_count": 9,
   "id": "b48b766d-59f9-4ac8-a5ff-3120f95c4cda",
   "metadata": {},
   "outputs": [
    {
     "name": "stdout",
     "output_type": "stream",
     "text": [
      "\n",
      ". \n",
      ". * run logit model\n",
      ". logit approve white married male sch hrat obrat\n",
      "\n",
      "Iteration 0:   log likelihood = -737.97933  \n",
      "Iteration 1:   log likelihood =  -680.6166  \n",
      "Iteration 2:   log likelihood = -669.30063  \n",
      "Iteration 3:   log likelihood = -669.25917  \n",
      "Iteration 4:   log likelihood = -669.25917  \n",
      "\n",
      "Logistic regression                                     Number of obs =  1,971\n",
      "                                                        LR chi2(6)    = 137.44\n",
      "                                                        Prob > chi2   = 0.0000\n",
      "Log likelihood = -669.25917                             Pseudo R2     = 0.0931\n",
      "\n",
      "------------------------------------------------------------------------------\n",
      "     approve | Coefficient  Std. err.      z    P>|z|     [95% conf. interval]\n",
      "-------------+----------------------------------------------------------------\n",
      "       white |    1.32032    .157367     8.39   0.000     1.011886    1.628754\n",
      "     married |   .4076083   .1559157     2.61   0.009     .1020191    .7131974\n",
      "        male |  -.1282415   .1928269    -0.67   0.506    -.5061753    .2496924\n",
      "         sch |   .1544091   .1636093     0.94   0.345    -.1662591    .4750774\n",
      "        hrat |   .0219757   .0117749     1.87   0.062    -.0011026    .0450541\n",
      "       obrat |  -.0666394   .0102943    -6.47   0.000    -.0868159    -.046463\n",
      "       _cons |    2.37438   .3932864     6.04   0.000     1.603553    3.145207\n",
      "------------------------------------------------------------------------------\n",
      "\n",
      ". \n",
      ". * get AME of white\n",
      ". replace white=1\n",
      "(303 real changes made)\n",
      "\n",
      ". predict pre1_approve\n",
      "(option pr assumed; Pr(approve))\n",
      "\n",
      ". \n",
      ". replace white=0\n",
      "(1,971 real changes made)\n",
      "\n",
      ". predict pre0_approve\n",
      "(option pr assumed; Pr(approve))\n",
      "\n",
      ". \n",
      ". gen dif_white = pre1_approve-pre0_approve\n",
      "\n",
      ". \n",
      ". sum dif_white\n",
      "\n",
      "    Variable |        Obs        Mean    Std. dev.       Min        Max\n",
      "-------------+---------------------------------------------------------\n",
      "   dif_white |      1,971    .1757314    .0507399   .0224604   .3185881\n",
      "\n",
      ". \n"
     ]
    }
   ],
   "source": [
    "%%stata \n",
    "\n",
    "* run logit model\n",
    "logit approve white married male sch hrat obrat\n",
    "\n",
    "* get AME of white\n",
    "replace white=1\n",
    "predict pre1_approve\n",
    "\n",
    "replace white=0\n",
    "predict pre0_approve\n",
    "\n",
    "gen dif_white = pre1_approve-pre0_approve\n",
    "\n",
    "sum dif_white"
   ]
  },
  {
   "cell_type": "markdown",
   "id": "cd1a3f45-e957-4026-8fc4-8ec7b76aacee",
   "metadata": {},
   "source": [
    "The empirical findings:\n",
    "1. Controling for other variables, on average, the probability of approved applicantions written by white people is 17.6% higher than people of other colors. Meanwhile, this result is statistically significant.\n",
    "2. Gender, years of schooling, and housing expenditure are statistically insignificant."
   ]
  },
  {
   "cell_type": "markdown",
   "id": "b2828ac3-7a29-4eb3-9949-eb16408b4a30",
   "metadata": {},
   "source": [
    "### Section 5. Conclusions"
   ]
  },
  {
   "cell_type": "markdown",
   "id": "1461932d-a3ee-46ae-adef-a916ee5095d9",
   "metadata": {},
   "source": [
    "1. After controling for other factors, we can believe racial discrimination does exist in lending markets.\n",
    "2. Gender, years of schooling, and housing expenditure have little influence on the possibility of the success in application."
   ]
  }
 ],
 "metadata": {
  "kernelspec": {
   "display_name": "Python 3 (ipykernel)",
   "language": "python",
   "name": "python3"
  },
  "language_info": {
   "codemirror_mode": {
    "name": "ipython",
    "version": 3
   },
   "file_extension": ".py",
   "mimetype": "text/x-python",
   "name": "python",
   "nbconvert_exporter": "python",
   "pygments_lexer": "ipython3",
   "version": "3.10.9"
  },
  "toc-autonumbering": true
 },
 "nbformat": 4,
 "nbformat_minor": 5
}
